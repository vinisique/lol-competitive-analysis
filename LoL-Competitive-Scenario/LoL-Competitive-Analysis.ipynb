{
  "nbformat": 4,
  "nbformat_minor": 0,
  "metadata": {
    "colab": {
      "name": "FSI_ML.ipynb",
      "provenance": [],
      "collapsed_sections": [
        "vT80Df_OA8Ry",
        "PUg66Cv7Gak1",
        "tLQhIJznMC9B",
        "ltGEgPrNP8b4",
        "QulhcGXjl4r_",
        "rRpv2UR8jlXy",
        "feyLUZ-1X4kG"
      ],
      "toc_visible": true
    },
    "kernelspec": {
      "name": "python391jvsc74a57bd0fe3bb10fefd9239e232f9b9e1ded2de2f88ef0e885811b15345fb6a7044ea826",
      "display_name": "Python 3.9.1 64-bit"
    },
    "metadata": {
      "interpreter": {
        "hash": "99895b1fb5777b62bbca485c28947babc49174d82e5a9d257e359cdc2b435eee"
      }
    }
  },
  "cells": [
    {
      "cell_type": "markdown",
      "metadata": {
        "id": "a86hkTZnEDMi"
      },
      "source": [
        "# **Análise de Banco de Dados de partidas competitivas do jogo League of Legends**\n",
        "\n",
        "\n",
        "---\n",
        "\n",
        "\n",
        "**Banimentos**\n",
        "\n",
        "Cada equipe tem direito ao banimento de cinco personagens que não poderão ser escolhidos para aquela partida.\n",
        "\n",
        "\n",
        "---\n",
        "\n",
        "\n",
        "**Abates**\n",
        "\n",
        "Um dos objetivos do jogo que fazem o jogador ganhar dinheiro para ficar mais forte é o abate de um personagem do time oposto.\n",
        "\n",
        "\n",
        "---\n",
        "\n",
        "**Lados do campo**\n",
        "\n",
        "Cada time (composto por 5 jogadores cada) é alocado em uma parte do mapa, sendo a parte inferior do time azul e a superior do time vermelho.\n",
        "\n",
        "\n",
        "![alt text](https://uploaddeimagens.com.br/images/002/559/161/original/Map.png?1585599165)\n",
        "\n",
        "\n",
        "---\n",
        "\n",
        "\n",
        "**Objetivo Primário**\n",
        "\n",
        "O objetivo principal do jogo é destruir as torres de alguma das rotas presentes no mapa (top, mid e bot) para chegar a base inimiga e destruir o inibidor e em seguida o nexus, assim acabando com a partida e declarando o vencedor.\n",
        "\n",
        "\n",
        "---\n",
        "\n",
        "\n",
        "**Monstros épicos**\n",
        "\n",
        "Os monstros épicos fornecem \"poderes\" extras (buffs) para o time que os derrota. Os monstros são: Dragão, Arauto e o Barão; realizados em tempos oportunos em partidas competitivas.\n",
        "\n",
        "\n",
        "---\n",
        "\n",
        "\n"
      ]
    },
    {
      "cell_type": "markdown",
      "metadata": {
        "id": "iW64vOes6wNs"
      },
      "source": [
        "## BIBLIOTECAS"
      ]
    },
    {
      "cell_type": "code",
      "metadata": {
        "id": "sEu38ya31D2x"
      },
      "source": [
        "import pandas as pd \n",
        "import matplotlib.pyplot as plt\n",
        "import seaborn as sns\n",
        "import numpy as np"
      ],
      "execution_count": 9,
      "outputs": []
    },
    {
      "cell_type": "markdown",
      "metadata": {
        "id": "vj1NCgCs61yy"
      },
      "source": [
        "\n",
        "\n",
        "---\n",
        "\n",
        "\n",
        "## LEITURA DOS ARQUIVOS CSV"
      ]
    },
    {
      "cell_type": "code",
      "metadata": {
        "id": "PNGYZotf1KRa"
      },
      "source": [
        "bans = pd.read_csv(\"./assets/bans.csv\")                                                 \n",
        "kills = pd.read_csv(\"./assets/kills.csv\")       \n",
        "matchinfo = pd.read_csv(\"./assets/matchinfo.csv\") \n",
        "monsters = pd.read_csv(\"./assets/monsters.csv\")\n",
        "structures = pd.read_csv(\"./assets/structures.csv\")"
      ],
      "execution_count": 10,
      "outputs": []
    },
    {
      "cell_type": "markdown",
      "metadata": {
        "id": "vT80Df_OA8Ry"
      },
      "source": [
        "\n",
        "\n",
        "---\n",
        "\n",
        "\n",
        "## INFORMAÇÕES DOS BANIMENTOS"
      ]
    },
    {
      "cell_type": "code",
      "metadata": {
        "id": "cFHeZVnF7H5K",
        "colab": {
          "base_uri": "https://localhost:8080/",
          "height": 111
        },
        "outputId": "d9dfa44a-ae0d-4edb-c850-77f8ea5a421a"
      },
      "source": [
        "print(bans.ban_1.describe()[\"top\"])\n",
        "print(bans.ban_2.describe()[\"top\"])\n",
        "print(bans.ban_3.describe()[\"top\"])\n",
        "print(bans.ban_4.describe()[\"top\"])\n",
        "print(bans.ban_5.describe()[\"top\"])"
      ],
      "execution_count": 11,
      "outputs": [
        {
          "output_type": "stream",
          "name": "stdout",
          "text": [
            "Leblanc\nLeblanc\nRyze\nSyndra\nSyndra\n"
          ]
        }
      ]
    },
    {
      "cell_type": "code",
      "metadata": {
        "id": "RPj3zqbkAJ_Q",
        "colab": {
          "base_uri": "https://localhost:8080/",
          "height": 129
        },
        "outputId": "1a974b50-ea82-45d3-ae4a-73b0a55d1c6c"
      },
      "source": [
        "bans.ban_1.value_counts()[0:5]"
      ],
      "execution_count": 8,
      "outputs": [
        {
          "output_type": "execute_result",
          "data": {
            "text/plain": [
              "Leblanc    874\n",
              "Kalista    742\n",
              "Zac        644\n",
              "Nidalee    642\n",
              "Ryze       553\n",
              "Name: ban_1, dtype: int64"
            ]
          },
          "metadata": {},
          "execution_count": 8
        }
      ]
    },
    {
      "cell_type": "code",
      "metadata": {
        "id": "G9XchvDd_sCY",
        "colab": {
          "base_uri": "https://localhost:8080/",
          "height": 129
        },
        "outputId": "75675067-c323-49f8-8754-57be56677e7b"
      },
      "source": [
        "bans.ban_2.value_counts()[0:5]"
      ],
      "execution_count": 9,
      "outputs": [
        {
          "output_type": "execute_result",
          "data": {
            "text/plain": [
              "Leblanc    613\n",
              "Kalista    546\n",
              "Ryze       500\n",
              "Elise      488\n",
              "Nidalee    426\n",
              "Name: ban_2, dtype: int64"
            ]
          },
          "metadata": {},
          "execution_count": 9
        }
      ]
    },
    {
      "cell_type": "code",
      "metadata": {
        "id": "6GfBhnL___1E",
        "colab": {
          "base_uri": "https://localhost:8080/",
          "height": 129
        },
        "outputId": "8094f675-d75f-44f0-dade-9ed6b6e974bd"
      },
      "source": [
        "bans.ban_3.value_counts()[0:5]"
      ],
      "execution_count": null,
      "outputs": [
        {
          "output_type": "execute_result",
          "data": {
            "text/plain": [
              "Ryze       632\n",
              "Leblanc    606\n",
              "Kalista    576\n",
              "Elise      517\n",
              "Lulu       411\n",
              "Name: ban_3, dtype: int64"
            ]
          },
          "metadata": {
            "tags": []
          },
          "execution_count": 7
        }
      ]
    },
    {
      "cell_type": "code",
      "metadata": {
        "id": "H5m0dWqRAqKA",
        "colab": {
          "base_uri": "https://localhost:8080/",
          "height": 129
        },
        "outputId": "dd0b5ca2-ef1d-4429-bbd9-8ff620c2cd4a"
      },
      "source": [
        "bans.ban_4.value_counts()[0:5]"
      ],
      "execution_count": null,
      "outputs": [
        {
          "output_type": "execute_result",
          "data": {
            "text/plain": [
              "Syndra        326\n",
              "Cassiopeia    297\n",
              "Shen          267\n",
              "Fiora         240\n",
              "Orianna       219\n",
              "Name: ban_4, dtype: int64"
            ]
          },
          "metadata": {
            "tags": []
          },
          "execution_count": 8
        }
      ]
    },
    {
      "cell_type": "code",
      "metadata": {
        "id": "TtFn2DjDArMB",
        "colab": {
          "base_uri": "https://localhost:8080/",
          "height": 129
        },
        "outputId": "2bd5468b-4da1-4ab5-be82-8254233dfece"
      },
      "source": [
        "bans.ban_5.value_counts()[0:5]"
      ],
      "execution_count": null,
      "outputs": [
        {
          "output_type": "execute_result",
          "data": {
            "text/plain": [
              "Syndra        346\n",
              "Orianna       242\n",
              "Cassiopeia    236\n",
              "Shen          219\n",
              "Taliyah       197\n",
              "Name: ban_5, dtype: int64"
            ]
          },
          "metadata": {
            "tags": []
          },
          "execution_count": 9
        }
      ]
    },
    {
      "cell_type": "markdown",
      "metadata": {
        "id": "PUg66Cv7Gak1"
      },
      "source": [
        "\n",
        "\n",
        "---\n",
        "\n",
        "\n",
        "## INFORMAÇÕES SOBRE OS ABATES"
      ]
    },
    {
      "cell_type": "code",
      "metadata": {
        "id": "JMjplVZ7GgiI",
        "colab": {
          "base_uri": "https://localhost:8080/",
          "height": 73
        },
        "outputId": "83dc22c3-8880-4dfe-97d1-e0d7577d5c29"
      },
      "source": [
        "print(\"Tempo com maior número de abates\",round(kills.Time.mean(), 2), \"minutos\")\n",
        "print(\"Abate com menor tempo\",round(kills.Time.min(), 2)*60, \"segundos\")\n",
        "print(\"Abate com maior tempo\",round(kills.Time.max(), 2), \"minutos\")"
      ],
      "execution_count": 12,
      "outputs": [
        {
          "output_type": "stream",
          "name": "stdout",
          "text": [
            "Tempo com maior número de abates 24.53 minutos\nAbate com menor tempo 37.2 segundos\nAbate com maior tempo 94.54 minutos\n"
          ]
        }
      ]
    },
    {
      "cell_type": "markdown",
      "metadata": {
        "id": "neZS0d24KcOJ"
      },
      "source": [
        "Gráfico de Abates x Tempo"
      ]
    },
    {
      "cell_type": "code",
      "metadata": {
        "id": "HaxEjcBMH4A2",
        "colab": {
          "base_uri": "https://localhost:8080/",
          "height": 284
        },
        "outputId": "ff84b3c3-56c9-4c35-a017-5848c164f639"
      },
      "source": [
        "kills.Time.value_counts().sample(80).sort_index().plot.line()"
      ],
      "execution_count": null,
      "outputs": [
        {
          "output_type": "execute_result",
          "data": {
            "text/plain": [
              "<matplotlib.axes._subplots.AxesSubplot at 0x7fc022afa6d8>"
            ]
          },
          "metadata": {
            "tags": []
          },
          "execution_count": 11
        },
        {
          "output_type": "display_data",
          "data": {
            "image/png": "[encoded data removed]",
            "text/plain": [
              "<Figure size 432x288 with 1 Axes>"
            ]
          },
          "metadata": {
            "tags": []
          }
        }
      ]
    },
    {
      "cell_type": "markdown",
      "metadata": {
        "id": "wOxpmyjyKjE1"
      },
      "source": [
        "Jogadores com mais abates"
      ]
    },
    {
      "cell_type": "code",
      "metadata": {
        "id": "yKOMPpIbKYBu",
        "colab": {
          "base_uri": "https://localhost:8080/",
          "height": 342
        },
        "outputId": "7e82ca85-a340-4564-a3df-fed5dd79612c"
      },
      "source": [
        "kills.Killer.value_counts().head(5).plot.bar()"
      ],
      "execution_count": null,
      "outputs": [
        {
          "output_type": "execute_result",
          "data": {
            "text/plain": [
              "<matplotlib.axes._subplots.AxesSubplot at 0x7fc0225ef668>"
            ]
          },
          "metadata": {
            "tags": []
          },
          "execution_count": 12
        },
        {
          "output_type": "display_data",
          "data": {
            "image/png": "[encoded data removed]",
            "text/plain": [
              "<Figure size 432x288 with 1 Axes>"
            ]
          },
          "metadata": {
            "tags": []
          }
        }
      ]
    },
    {
      "cell_type": "markdown",
      "metadata": {
        "id": "07G4NuyzLeLB"
      },
      "source": [
        "Jogadores com mais mortes"
      ]
    },
    {
      "cell_type": "code",
      "metadata": {
        "id": "Jd9PexBOKmy_",
        "colab": {
          "base_uri": "https://localhost:8080/",
          "height": 348
        },
        "outputId": "5b1ae0c0-8830-4b98-adb2-50de01e146ec"
      },
      "source": [
        "kills.Victim.loc[kills.Victim != \"None\"].value_counts().head(5).plot.bar()"
      ],
      "execution_count": null,
      "outputs": [
        {
          "output_type": "execute_result",
          "data": {
            "text/plain": [
              "<matplotlib.axes._subplots.AxesSubplot at 0x7fc0225d2a20>"
            ]
          },
          "metadata": {
            "tags": []
          },
          "execution_count": 13
        },
        {
          "output_type": "display_data",
          "data": {
            "image/png": "[encoded data removed]",
            "text/plain": [
              "<Figure size 432x288 with 1 Axes>"
            ]
          },
          "metadata": {
            "tags": []
          }
        }
      ]
    },
    {
      "cell_type": "markdown",
      "metadata": {
        "id": "tLQhIJznMC9B"
      },
      "source": [
        "\n",
        "\n",
        "---\n",
        "\n",
        "## INFORMAÇÕES DA PARTIDA"
      ]
    },
    {
      "cell_type": "code",
      "metadata": {
        "id": "CEf4Y8poMIjm",
        "colab": {
          "base_uri": "https://localhost:8080/",
          "height": 73
        },
        "outputId": "9f23bf4e-a190-49ce-b4a4-18a272755407"
      },
      "source": [
        "print(\"Partida mais longa:\", matchinfo.gamelength.max(), \"minutos\")\n",
        "print(\"Partida mais curta:\", matchinfo.gamelength.min(), \"minutos\")\n",
        "print(\"Média de duração das partidas:\", round(matchinfo.gamelength.mean(), 2), \"minutos\")"
      ],
      "execution_count": null,
      "outputs": [
        {
          "output_type": "stream",
          "text": [
            "Partida mais longa: 95 minutos\n",
            "Partida mais curta: 17 minutos\n",
            "Média de duração das partidas: 37.01 minutos\n"
          ],
          "name": "stdout"
        }
      ]
    },
    {
      "cell_type": "code",
      "metadata": {
        "id": "6HYRBW8ONNPb",
        "colab": {
          "base_uri": "https://localhost:8080/",
          "height": 73
        },
        "outputId": "090f8097-3530-409d-c79f-f201a478da4c"
      },
      "source": [
        "vitoriasAzul = matchinfo.bResult.value_counts()[1]\n",
        "vitoriasVermelho = matchinfo.rResult.value_counts()[1]\n",
        "print(\"O time azul venceu\", vitoriasAzul, \"das vezes\")\n",
        "print(\"O time vermelho venceu\", vitoriasVermelho, \"das vezes\")\n",
        "print(f\"A taxa de vitórias do time azul é {round(vitoriasAzul/vitoriasVermelho*100-100, 2)}% maior\")"
      ],
      "execution_count": null,
      "outputs": [
        {
          "output_type": "stream",
          "text": [
            "O time azul venceu 4146 das vezes\n",
            "O time vermelho venceu 3474 das vezes\n",
            "A taxa de vitórias do time azul é 19.34% maior\n"
          ],
          "name": "stdout"
        }
      ]
    },
    {
      "cell_type": "markdown",
      "metadata": {
        "id": "ltGEgPrNP8b4"
      },
      "source": [
        "\n",
        "\n",
        "---\n",
        "\n",
        "## INFORMAÇÕES SOBRE OS MONSTROS ÉPICOS"
      ]
    },
    {
      "cell_type": "code",
      "metadata": {
        "id": "AwcUs71IeDbG",
        "colab": {
          "base_uri": "https://localhost:8080/",
          "height": 73
        },
        "outputId": "09ffd393-dcb5-4b93-d306-f80e4e26ded7"
      },
      "source": [
        "print(\"Média da execução do dragão:\", round(monsters.loc[monsters.Type == \"DRAGON\"].Time.mean(), 2), \"minutos\")\n",
        "print(\"Dragão executado em menor tempo:\", round(monsters.loc[monsters.Type == \"DRAGON\"].Time.min(), 2), \"minutos\")\n",
        "print(\"Dragão executado em maior tempo:\", round(monsters.loc[monsters.Type == \"DRAGON\"].Time.max(), 2), \"minutos\")"
      ],
      "execution_count": null,
      "outputs": [
        {
          "output_type": "stream",
          "text": [
            "Média da execução do dragão: 23.16 minutos\n",
            "Dragão executado em menor tempo: 3.08 minutos\n",
            "Dragão executado em maior tempo: 72.91 minutos\n"
          ],
          "name": "stdout"
        }
      ]
    },
    {
      "cell_type": "code",
      "metadata": {
        "id": "uEF2wh4mhCDF",
        "colab": {
          "base_uri": "https://localhost:8080/",
          "height": 73
        },
        "outputId": "d60ceb79-8876-46d2-ead3-93f5d9f6e6a2"
      },
      "source": [
        "print(\"Média da execução do arauto:\", round(monsters.loc[monsters.Type == \"RIFT_HERALD\"].mean()[\"Time\"], 2), \"minutos\")\n",
        "print(\"Arauto executado em menor tempo:\", round(monsters.loc[monsters.Type == \"RIFT_HERALD\"].min()[\"Time\"], 2), \"minutos\")\n",
        "print(\"Arauto executado em maior tempo:\", round(monsters.loc[monsters.Type == \"RIFT_HERALD\"].max()[\"Time\"], 2), \"minutos\")"
      ],
      "execution_count": null,
      "outputs": [
        {
          "output_type": "stream",
          "text": [
            "Média da execução do arauto: 14.76 minutos\n",
            "Arauto executado em menor tempo: 4.27 minutos\n",
            "Arauto executado em maior tempo: 19.91 minutos\n"
          ],
          "name": "stdout"
        }
      ]
    },
    {
      "cell_type": "code",
      "metadata": {
        "id": "nO7-EhmtjxLv",
        "colab": {
          "base_uri": "https://localhost:8080/",
          "height": 73
        },
        "outputId": "ea5cb71b-2109-4be0-9f80-1fd2829b556c"
      },
      "source": [
        "print(\"Média da execução do Barão:\", round(monsters.loc[monsters.Type == \"BARON_NASHOR\"].mean()[\"Time\"], 2), \"minutos\")\n",
        "print(\"Barão executado em menor tempo:\", round(monsters.loc[monsters.Type == \"BARON_NASHOR\"].Time.min(), 2), \"minutos\")\n",
        "print(\"Barão executado em maior tempo:\", round(monsters.loc[monsters.Type == \"BARON_NASHOR\"].max()[\"Time\"], 2), \"minutos\")"
      ],
      "execution_count": null,
      "outputs": [
        {
          "output_type": "stream",
          "text": [
            "Média da execução do Barão: 31.5 minutos\n",
            "Barão executado em menor tempo: 18.85 minutos\n",
            "Barão executado em maior tempo: 92.36 minutos\n"
          ],
          "name": "stdout"
        }
      ]
    },
    {
      "cell_type": "markdown",
      "metadata": {
        "id": "QulhcGXjl4r_"
      },
      "source": [
        "\n",
        "\n",
        "---\n",
        "\n",
        "\n",
        "## INFORMAÇÕES SOBRE AS ESTRUTURAS"
      ]
    },
    {
      "cell_type": "code",
      "metadata": {
        "id": "c98hkn9JMuFQ",
        "colab": {
          "base_uri": "https://localhost:8080/",
          "height": 92
        },
        "outputId": "1f9eae06-a3fb-40e9-b870-4e0777130ef5"
      },
      "source": [
        "dataset = structures.loc[structures.Type != \"FOUNTAIN_TURRET\"]\n",
        "dataset.Lane.value_counts()"
      ],
      "execution_count": null,
      "outputs": [
        {
          "output_type": "execute_result",
          "data": {
            "text/plain": [
              "MID_LANE    51454\n",
              "BOT_LANE    32420\n",
              "TOP_LANE    29828\n",
              "Name: Lane, dtype: int64"
            ]
          },
          "metadata": {
            "tags": []
          },
          "execution_count": 19
        }
      ]
    },
    {
      "cell_type": "code",
      "metadata": {
        "id": "wqkR8DQeNgZU",
        "colab": {
          "base_uri": "https://localhost:8080/",
          "height": 73
        },
        "outputId": "f22bfc96-6ac5-4453-d3c8-19ceb8c16316"
      },
      "source": [
        "print(\"Tempo com maior número de torres destruidas:\", round(dataset.Time.mean(), 2), \"minutos\")\n",
        "print(\"Destruição de estrutura mais rapida:\", round(dataset.Time.min(), 2), \"minutos\")\n",
        "print(\"Destruição de estrutura mais atrasada:\", round(dataset.Time.max(), 2), \"minutos\")"
      ],
      "execution_count": null,
      "outputs": [
        {
          "output_type": "stream",
          "text": [
            "Tempo com maior número de torres destruidas: 27.11 minutos\n",
            "Destruição de estrutura mais rapida: 3.1 minutos\n",
            "Destruição de estrutura mais atrasada: 94.51 minutos\n"
          ],
          "name": "stdout"
        }
      ]
    },
    {
      "cell_type": "markdown",
      "metadata": {
        "id": "rRpv2UR8jlXy"
      },
      "source": [
        "\n",
        "\n",
        "---\n",
        "\n",
        "## COUNTPLOT E FACTORPLOT"
      ]
    },
    {
      "cell_type": "code",
      "metadata": {
        "id": "gNK4f4sBlC6c",
        "colab": {
          "base_uri": "https://localhost:8080/",
          "height": 313
        },
        "outputId": "9d08619d-6a94-4b66-8b78-553d5b678129"
      },
      "source": [
        "matchinfo.head(5)"
      ],
      "execution_count": null,
      "outputs": [
        {
          "output_type": "execute_result",
          "data": {
            "text/html": [
              "<div>\n",
              "<style scoped>\n",
              "    .dataframe tbody tr th:only-of-type {\n",
              "        vertical-align: middle;\n",
              "    }\n",
              "\n",
              "    .dataframe tbody tr th {\n",
              "        vertical-align: top;\n",
              "    }\n",
              "\n",
              "    .dataframe thead th {\n",
              "        text-align: right;\n",
              "    }\n",
              "</style>\n",
              "<table border=\"1\" class=\"dataframe\">\n",
              "  <thead>\n",
              "    <tr style=\"text-align: right;\">\n",
              "      <th></th>\n",
              "      <th>League</th>\n",
              "      <th>Year</th>\n",
              "      <th>Season</th>\n",
              "      <th>Type</th>\n",
              "      <th>blueTeamTag</th>\n",
              "      <th>bResult</th>\n",
              "      <th>rResult</th>\n",
              "      <th>redTeamTag</th>\n",
              "      <th>gamelength</th>\n",
              "      <th>blueTop</th>\n",
              "      <th>blueTopChamp</th>\n",
              "      <th>blueJungle</th>\n",
              "      <th>blueJungleChamp</th>\n",
              "      <th>blueMiddle</th>\n",
              "      <th>blueMiddleChamp</th>\n",
              "      <th>blueADC</th>\n",
              "      <th>blueADCChamp</th>\n",
              "      <th>blueSupport</th>\n",
              "      <th>blueSupportChamp</th>\n",
              "      <th>redTop</th>\n",
              "      <th>redTopChamp</th>\n",
              "      <th>redJungle</th>\n",
              "      <th>redJungleChamp</th>\n",
              "      <th>redMiddle</th>\n",
              "      <th>redMiddleChamp</th>\n",
              "      <th>redADC</th>\n",
              "      <th>redADCChamp</th>\n",
              "      <th>redSupport</th>\n",
              "      <th>redSupportChamp</th>\n",
              "      <th>Address</th>\n",
              "    </tr>\n",
              "  </thead>\n",
              "  <tbody>\n",
              "    <tr>\n",
              "      <th>0</th>\n",
              "      <td>NALCS</td>\n",
              "      <td>2015</td>\n",
              "      <td>Spring</td>\n",
              "      <td>Season</td>\n",
              "      <td>TSM</td>\n",
              "      <td>1</td>\n",
              "      <td>0</td>\n",
              "      <td>C9</td>\n",
              "      <td>40</td>\n",
              "      <td>Dyrus</td>\n",
              "      <td>Irelia</td>\n",
              "      <td>Santorin</td>\n",
              "      <td>RekSai</td>\n",
              "      <td>Bjergsen</td>\n",
              "      <td>Ahri</td>\n",
              "      <td>WildTurtle</td>\n",
              "      <td>Jinx</td>\n",
              "      <td>Lustboy</td>\n",
              "      <td>Janna</td>\n",
              "      <td>Balls</td>\n",
              "      <td>Gnar</td>\n",
              "      <td>Meteos</td>\n",
              "      <td>Elise</td>\n",
              "      <td>Hai</td>\n",
              "      <td>Fizz</td>\n",
              "      <td>Sneaky</td>\n",
              "      <td>Sivir</td>\n",
              "      <td>LemonNation</td>\n",
              "      <td>Thresh</td>\n",
              "      <td>http://matchhistory.na.leagueoflegends.com/en/...</td>\n",
              "    </tr>\n",
              "    <tr>\n",
              "      <th>1</th>\n",
              "      <td>NALCS</td>\n",
              "      <td>2015</td>\n",
              "      <td>Spring</td>\n",
              "      <td>Season</td>\n",
              "      <td>CST</td>\n",
              "      <td>0</td>\n",
              "      <td>1</td>\n",
              "      <td>DIG</td>\n",
              "      <td>38</td>\n",
              "      <td>Cris</td>\n",
              "      <td>Gnar</td>\n",
              "      <td>Impaler</td>\n",
              "      <td>Rengar</td>\n",
              "      <td>Jesiz</td>\n",
              "      <td>Ahri</td>\n",
              "      <td>Mash</td>\n",
              "      <td>Caitlyn</td>\n",
              "      <td>Sheep</td>\n",
              "      <td>Leona</td>\n",
              "      <td>Gamsu</td>\n",
              "      <td>Irelia</td>\n",
              "      <td>Crumbzz</td>\n",
              "      <td>JarvanIV</td>\n",
              "      <td>Shiphtur</td>\n",
              "      <td>Azir</td>\n",
              "      <td>CoreJJ</td>\n",
              "      <td>Corki</td>\n",
              "      <td>KiWiKiD</td>\n",
              "      <td>Annie</td>\n",
              "      <td>http://matchhistory.na.leagueoflegends.com/en/...</td>\n",
              "    </tr>\n",
              "    <tr>\n",
              "      <th>2</th>\n",
              "      <td>NALCS</td>\n",
              "      <td>2015</td>\n",
              "      <td>Spring</td>\n",
              "      <td>Season</td>\n",
              "      <td>WFX</td>\n",
              "      <td>1</td>\n",
              "      <td>0</td>\n",
              "      <td>GV</td>\n",
              "      <td>40</td>\n",
              "      <td>Flaresz</td>\n",
              "      <td>Renekton</td>\n",
              "      <td>ShorterACE</td>\n",
              "      <td>Rengar</td>\n",
              "      <td>Pobelter</td>\n",
              "      <td>Fizz</td>\n",
              "      <td>Altec</td>\n",
              "      <td>Sivir</td>\n",
              "      <td>Gleeb</td>\n",
              "      <td>Annie</td>\n",
              "      <td>Hauntzer</td>\n",
              "      <td>Sion</td>\n",
              "      <td>Saintvicious</td>\n",
              "      <td>LeeSin</td>\n",
              "      <td>Keane</td>\n",
              "      <td>Azir</td>\n",
              "      <td>Cop</td>\n",
              "      <td>Corki</td>\n",
              "      <td>BunnyFuFuu</td>\n",
              "      <td>Janna</td>\n",
              "      <td>http://matchhistory.na.leagueoflegends.com/en/...</td>\n",
              "    </tr>\n",
              "    <tr>\n",
              "      <th>3</th>\n",
              "      <td>NALCS</td>\n",
              "      <td>2015</td>\n",
              "      <td>Spring</td>\n",
              "      <td>Season</td>\n",
              "      <td>TIP</td>\n",
              "      <td>0</td>\n",
              "      <td>1</td>\n",
              "      <td>TL</td>\n",
              "      <td>41</td>\n",
              "      <td>Rhux</td>\n",
              "      <td>Irelia</td>\n",
              "      <td>Rush</td>\n",
              "      <td>JarvanIV</td>\n",
              "      <td>XiaoWeiXiao</td>\n",
              "      <td>Leblanc</td>\n",
              "      <td>Apollo</td>\n",
              "      <td>Sivir</td>\n",
              "      <td>Adrian</td>\n",
              "      <td>Thresh</td>\n",
              "      <td>Quas</td>\n",
              "      <td>Gnar</td>\n",
              "      <td>IWDominate</td>\n",
              "      <td>Nunu</td>\n",
              "      <td>Fenix</td>\n",
              "      <td>Lulu</td>\n",
              "      <td>KEITH</td>\n",
              "      <td>KogMaw</td>\n",
              "      <td>Xpecial</td>\n",
              "      <td>Janna</td>\n",
              "      <td>http://matchhistory.na.leagueoflegends.com/en/...</td>\n",
              "    </tr>\n",
              "    <tr>\n",
              "      <th>4</th>\n",
              "      <td>NALCS</td>\n",
              "      <td>2015</td>\n",
              "      <td>Spring</td>\n",
              "      <td>Season</td>\n",
              "      <td>CLG</td>\n",
              "      <td>1</td>\n",
              "      <td>0</td>\n",
              "      <td>T8</td>\n",
              "      <td>35</td>\n",
              "      <td>Benny</td>\n",
              "      <td>Gnar</td>\n",
              "      <td>Xmithie</td>\n",
              "      <td>JarvanIV</td>\n",
              "      <td>Link</td>\n",
              "      <td>Lissandra</td>\n",
              "      <td>Doublelift</td>\n",
              "      <td>Tristana</td>\n",
              "      <td>aphromoo</td>\n",
              "      <td>Janna</td>\n",
              "      <td>CaliTrlolz8</td>\n",
              "      <td>Sion</td>\n",
              "      <td>Porpoise8</td>\n",
              "      <td>RekSai</td>\n",
              "      <td>Slooshi8</td>\n",
              "      <td>Lulu</td>\n",
              "      <td>Maplestreet8</td>\n",
              "      <td>Corki</td>\n",
              "      <td>Dodo8</td>\n",
              "      <td>Annie</td>\n",
              "      <td>http://matchhistory.na.leagueoflegends.com/en/...</td>\n",
              "    </tr>\n",
              "  </tbody>\n",
              "</table>\n",
              "</div>"
            ],
            "text/plain": [
              "  League  ...                                            Address\n",
              "0  NALCS  ...  http://matchhistory.na.leagueoflegends.com/en/...\n",
              "1  NALCS  ...  http://matchhistory.na.leagueoflegends.com/en/...\n",
              "2  NALCS  ...  http://matchhistory.na.leagueoflegends.com/en/...\n",
              "3  NALCS  ...  http://matchhistory.na.leagueoflegends.com/en/...\n",
              "4  NALCS  ...  http://matchhistory.na.leagueoflegends.com/en/...\n",
              "\n",
              "[5 rows x 30 columns]"
            ]
          },
          "metadata": {
            "tags": []
          },
          "execution_count": 72
        }
      ]
    },
    {
      "cell_type": "code",
      "metadata": {
        "id": "hGWxx4aimDs-",
        "colab": {
          "base_uri": "https://localhost:8080/",
          "height": 298
        },
        "outputId": "23751466-724d-47bd-9d0a-a0d05f548736"
      },
      "source": [
        "sns.countplot(matchinfo.bResult)"
      ],
      "execution_count": null,
      "outputs": [
        {
          "output_type": "execute_result",
          "data": {
            "text/plain": [
              "<matplotlib.axes._subplots.AxesSubplot at 0x7f6cb6134160>"
            ]
          },
          "metadata": {
            "tags": []
          },
          "execution_count": 13
        },
        {
          "output_type": "display_data",
          "data": {
            "image/png": "[encoded data removed]",
            "text/plain": [
              "<Figure size 432x288 with 1 Axes>"
            ]
          },
          "metadata": {
            "tags": [],
            "needs_background": "light"
          }
        }
      ]
    },
    {
      "cell_type": "code",
      "metadata": {
        "id": "lCWyJny9p-at",
        "colab": {
          "base_uri": "https://localhost:8080/",
          "height": 369
        },
        "outputId": "ba534a99-2ab4-498e-8ebd-ffaf28abe038"
      },
      "source": [
        "sns.factorplot(x=\"bResult\", col=\"Year\", kind=\"count\", data=matchinfo)"
      ],
      "execution_count": null,
      "outputs": [
        {
          "output_type": "stream",
          "text": [
            "/usr/local/lib/python3.6/dist-packages/seaborn/categorical.py:3669: UserWarning: The `factorplot` function has been renamed to `catplot`. The original name will be removed in a future release. Please update your code. Note that the default `kind` in `factorplot` (`'point'`) has changed `'strip'` in `catplot`.\n",
            "  warnings.warn(msg)\n"
          ],
          "name": "stderr"
        },
        {
          "output_type": "execute_result",
          "data": {
            "text/plain": [
              "<seaborn.axisgrid.FacetGrid at 0x7f6cb1b1abe0>"
            ]
          },
          "metadata": {
            "tags": []
          },
          "execution_count": 42
        },
        {
          "output_type": "display_data",
          "data": {
            "image/png": "[encoded data removed]",
            "text/plain": [
              "<Figure size 1800x360 with 5 Axes>"
            ]
          },
          "metadata": {
            "tags": [],
            "needs_background": "light"
          }
        }
      ]
    },
    {
      "cell_type": "code",
      "metadata": {
        "id": "eqykwzoY0cjx",
        "colab": {
          "base_uri": "https://localhost:8080/",
          "height": 445
        },
        "outputId": "7215f589-36dd-40b9-d362-77e465e8178d"
      },
      "source": [
        "sns.factorplot(x=\"ban_1\", col=\"Team\", kind=\"count\", data=bans)"
      ],
      "execution_count": null,
      "outputs": [
        {
          "output_type": "stream",
          "text": [
            "/usr/local/lib/python3.6/dist-packages/seaborn/categorical.py:3669: UserWarning: The `factorplot` function has been renamed to `catplot`. The original name will be removed in a future release. Please update your code. Note that the default `kind` in `factorplot` (`'point'`) has changed `'strip'` in `catplot`.\n",
            "  warnings.warn(msg)\n"
          ],
          "name": "stderr"
        },
        {
          "output_type": "execute_result",
          "data": {
            "text/plain": [
              "<seaborn.axisgrid.FacetGrid at 0x7f6ca2586668>"
            ]
          },
          "metadata": {
            "tags": []
          },
          "execution_count": 71
        },
        {
          "output_type": "display_data",
          "data": {
            "image/png": "[encoded data removed]",
            "text/plain": [
              "<Figure size 720x360 with 2 Axes>"
            ]
          },
          "metadata": {
            "tags": [],
            "needs_background": "light"
          }
        }
      ]
    },
    {
      "cell_type": "code",
      "metadata": {
        "id": "NznxSL7ezdRE",
        "colab": {
          "base_uri": "https://localhost:8080/",
          "height": 243
        },
        "outputId": "55ab4db1-4847-4592-a498-73861165a9fd"
      },
      "source": [
        "bans.loc[bans.Team == \"redBans\"].ban_1.value_counts()"
      ],
      "execution_count": null,
      "outputs": [
        {
          "output_type": "execute_result",
          "data": {
            "text/plain": [
              "Zac             623\n",
              "Kalista         549\n",
              "Leblanc         475\n",
              "Nidalee         397\n",
              "Ryze            318\n",
              "               ... \n",
              "Akali             1\n",
              "FiddleSticks      1\n",
              "Kayn              1\n",
              "Yorick            1\n",
              "Aatrox            1\n",
              "Name: ban_1, Length: 124, dtype: int64"
            ]
          },
          "metadata": {
            "tags": []
          },
          "execution_count": 65
        }
      ]
    },
    {
      "cell_type": "code",
      "metadata": {
        "id": "5sOl9L1xmWfy",
        "colab": {
          "base_uri": "https://localhost:8080/",
          "height": 445
        },
        "outputId": "3df0ca22-f5aa-4cd4-f33d-4c08af95fe8e"
      },
      "source": [
        "sns.factorplot(x=\"ban_4\", col=\"Team\", kind=\"count\", data=bans)"
      ],
      "execution_count": null,
      "outputs": [
        {
          "output_type": "stream",
          "text": [
            "/usr/local/lib/python3.6/dist-packages/seaborn/categorical.py:3669: UserWarning: The `factorplot` function has been renamed to `catplot`. The original name will be removed in a future release. Please update your code. Note that the default `kind` in `factorplot` (`'point'`) has changed `'strip'` in `catplot`.\n",
            "  warnings.warn(msg)\n"
          ],
          "name": "stderr"
        },
        {
          "output_type": "execute_result",
          "data": {
            "text/plain": [
              "<seaborn.axisgrid.FacetGrid at 0x7f6ca49cda90>"
            ]
          },
          "metadata": {
            "tags": []
          },
          "execution_count": 70
        },
        {
          "output_type": "display_data",
          "data": {
            "image/png": "[encoded data removed]",
            "text/plain": [
              "<Figure size 720x360 with 2 Axes>"
            ]
          },
          "metadata": {
            "tags": [],
            "needs_background": "light"
          }
        }
      ]
    },
    {
      "cell_type": "code",
      "metadata": {
        "id": "DdkXIKoEqrSW",
        "colab": {
          "base_uri": "https://localhost:8080/",
          "height": 185
        },
        "outputId": "9b8c5176-2b1b-4bb3-a411-614ebc1c33c0"
      },
      "source": [
        "sns.factorplot(x=\"gamelength\", col=\"League\", kind=\"count\", data=matchinfo)"
      ],
      "execution_count": null,
      "outputs": [
        {
          "output_type": "stream",
          "text": [
            "/usr/local/lib/python3.6/dist-packages/seaborn/categorical.py:3669: UserWarning: The `factorplot` function has been renamed to `catplot`. The original name will be removed in a future release. Please update your code. Note that the default `kind` in `factorplot` (`'point'`) has changed `'strip'` in `catplot`.\n",
            "  warnings.warn(msg)\n"
          ],
          "name": "stderr"
        },
        {
          "output_type": "execute_result",
          "data": {
            "text/plain": [
              "<seaborn.axisgrid.FacetGrid at 0x7f6cb21239e8>"
            ]
          },
          "metadata": {
            "tags": []
          },
          "execution_count": 46
        },
        {
          "output_type": "display_data",
          "data": {
            "image/png": "[encoded data removed]",
            "text/plain": [
              "<Figure size 5400x360 with 15 Axes>"
            ]
          },
          "metadata": {
            "tags": [],
            "needs_background": "light"
          }
        }
      ]
    },
    {
      "cell_type": "markdown",
      "metadata": {
        "id": "feyLUZ-1X4kG"
      },
      "source": [
        "\n",
        "\n",
        "---\n",
        "\n",
        "## ALGORITMO DE PREDIÇÃO DE VITÓRIA"
      ]
    },
    {
      "cell_type": "markdown",
      "metadata": {
        "id": "9TGsLVt2DtSO"
      },
      "source": [
        "1 - Importação dos modelos\n",
        "\n",
        "2 - Escolha dos hiperparâmetros e instanciação da classe escolhida.\n",
        "\n",
        "3.1 Feature Matrix\n",
        "\n",
        "3.2 Target Array\n",
        "\n",
        "3.3 Separação do Banco de Dados\n",
        "\n",
        "4 - Ajuste do modelo de dados\n",
        "\n",
        "5 - Predições em dados novos"
      ]
    },
    {
      "cell_type": "markdown",
      "metadata": {
        "id": "-J0TRIhx6ap2"
      },
      "source": [
        "Import nas bibliotecas do sklearn"
      ]
    },
    {
      "cell_type": "code",
      "metadata": {
        "id": "VrBnx12TX3I6"
      },
      "source": [
        "# 1 - Importação dos modelos\n",
        "from sklearn.model_selection import train_test_split\n",
        "from sklearn.metrics import accuracy_score\n",
        "from sklearn.ensemble import RandomForestClassifier\n",
        "from sklearn.tree import DecisionTreeClassifier\n",
        "from sklearn.naive_bayes import GaussianNB\n",
        "from sklearn.neighbors import KNeighborsClassifier\n",
        "from sklearn.model_selection import cross_val_score"
      ],
      "execution_count": 13,
      "outputs": []
    },
    {
      "cell_type": "code",
      "metadata": {
        "id": "q88nbhV0YGkl",
        "colab": {
          "base_uri": "https://localhost:8080/",
          "height": 313
        },
        "outputId": "014c8334-08cd-4f8c-eb1b-d118223243ee"
      },
      "source": [
        "matchinfo.head(5)"
      ],
      "execution_count": 14,
      "outputs": [
        {
          "output_type": "execute_result",
          "data": {
            "text/plain": [
              "  League  Year  Season    Type blueTeamTag  bResult  rResult redTeamTag  \\\n",
              "0  NALCS  2015  Spring  Season         TSM        1        0         C9   \n",
              "1  NALCS  2015  Spring  Season         CST        0        1        DIG   \n",
              "2  NALCS  2015  Spring  Season         WFX        1        0         GV   \n",
              "3  NALCS  2015  Spring  Season         TIP        0        1         TL   \n",
              "4  NALCS  2015  Spring  Season         CLG        1        0         T8   \n",
              "\n",
              "   gamelength  blueTop  ... redTopChamp     redJungle redJungleChamp  \\\n",
              "0          40    Dyrus  ...        Gnar        Meteos          Elise   \n",
              "1          38     Cris  ...      Irelia       Crumbzz       JarvanIV   \n",
              "2          40  Flaresz  ...        Sion  Saintvicious         LeeSin   \n",
              "3          41     Rhux  ...        Gnar    IWDominate           Nunu   \n",
              "4          35    Benny  ...        Sion     Porpoise8         RekSai   \n",
              "\n",
              "  redMiddle redMiddleChamp        redADC redADCChamp   redSupport  \\\n",
              "0       Hai           Fizz        Sneaky       Sivir  LemonNation   \n",
              "1  Shiphtur           Azir        CoreJJ       Corki      KiWiKiD   \n",
              "2     Keane           Azir           Cop       Corki   BunnyFuFuu   \n",
              "3     Fenix           Lulu         KEITH      KogMaw      Xpecial   \n",
              "4  Slooshi8           Lulu  Maplestreet8       Corki        Dodo8   \n",
              "\n",
              "  redSupportChamp                                            Address  \n",
              "0          Thresh  http://matchhistory.na.leagueoflegends.com/en/...  \n",
              "1           Annie  http://matchhistory.na.leagueoflegends.com/en/...  \n",
              "2           Janna  http://matchhistory.na.leagueoflegends.com/en/...  \n",
              "3           Janna  http://matchhistory.na.leagueoflegends.com/en/...  \n",
              "4           Annie  http://matchhistory.na.leagueoflegends.com/en/...  \n",
              "\n",
              "[5 rows x 30 columns]"
            ],
            "text/html": "<div>\n<style scoped>\n    .dataframe tbody tr th:only-of-type {\n        vertical-align: middle;\n    }\n\n    .dataframe tbody tr th {\n        vertical-align: top;\n    }\n\n    .dataframe thead th {\n        text-align: right;\n    }\n</style>\n<table border=\"1\" class=\"dataframe\">\n  <thead>\n    <tr style=\"text-align: right;\">\n      <th></th>\n      <th>League</th>\n      <th>Year</th>\n      <th>Season</th>\n      <th>Type</th>\n      <th>blueTeamTag</th>\n      <th>bResult</th>\n      <th>rResult</th>\n      <th>redTeamTag</th>\n      <th>gamelength</th>\n      <th>blueTop</th>\n      <th>...</th>\n      <th>redTopChamp</th>\n      <th>redJungle</th>\n      <th>redJungleChamp</th>\n      <th>redMiddle</th>\n      <th>redMiddleChamp</th>\n      <th>redADC</th>\n      <th>redADCChamp</th>\n      <th>redSupport</th>\n      <th>redSupportChamp</th>\n      <th>Address</th>\n    </tr>\n  </thead>\n  <tbody>\n    <tr>\n      <th>0</th>\n      <td>NALCS</td>\n      <td>2015</td>\n      <td>Spring</td>\n      <td>Season</td>\n      <td>TSM</td>\n      <td>1</td>\n      <td>0</td>\n      <td>C9</td>\n      <td>40</td>\n      <td>Dyrus</td>\n      <td>...</td>\n      <td>Gnar</td>\n      <td>Meteos</td>\n      <td>Elise</td>\n      <td>Hai</td>\n      <td>Fizz</td>\n      <td>Sneaky</td>\n      <td>Sivir</td>\n      <td>LemonNation</td>\n      <td>Thresh</td>\n      <td>http://matchhistory.na.leagueoflegends.com/en/...</td>\n    </tr>\n    <tr>\n      <th>1</th>\n      <td>NALCS</td>\n      <td>2015</td>\n      <td>Spring</td>\n      <td>Season</td>\n      <td>CST</td>\n      <td>0</td>\n      <td>1</td>\n      <td>DIG</td>\n      <td>38</td>\n      <td>Cris</td>\n      <td>...</td>\n      <td>Irelia</td>\n      <td>Crumbzz</td>\n      <td>JarvanIV</td>\n      <td>Shiphtur</td>\n      <td>Azir</td>\n      <td>CoreJJ</td>\n      <td>Corki</td>\n      <td>KiWiKiD</td>\n      <td>Annie</td>\n      <td>http://matchhistory.na.leagueoflegends.com/en/...</td>\n    </tr>\n    <tr>\n      <th>2</th>\n      <td>NALCS</td>\n      <td>2015</td>\n      <td>Spring</td>\n      <td>Season</td>\n      <td>WFX</td>\n      <td>1</td>\n      <td>0</td>\n      <td>GV</td>\n      <td>40</td>\n      <td>Flaresz</td>\n      <td>...</td>\n      <td>Sion</td>\n      <td>Saintvicious</td>\n      <td>LeeSin</td>\n      <td>Keane</td>\n      <td>Azir</td>\n      <td>Cop</td>\n      <td>Corki</td>\n      <td>BunnyFuFuu</td>\n      <td>Janna</td>\n      <td>http://matchhistory.na.leagueoflegends.com/en/...</td>\n    </tr>\n    <tr>\n      <th>3</th>\n      <td>NALCS</td>\n      <td>2015</td>\n      <td>Spring</td>\n      <td>Season</td>\n      <td>TIP</td>\n      <td>0</td>\n      <td>1</td>\n      <td>TL</td>\n      <td>41</td>\n      <td>Rhux</td>\n      <td>...</td>\n      <td>Gnar</td>\n      <td>IWDominate</td>\n      <td>Nunu</td>\n      <td>Fenix</td>\n      <td>Lulu</td>\n      <td>KEITH</td>\n      <td>KogMaw</td>\n      <td>Xpecial</td>\n      <td>Janna</td>\n      <td>http://matchhistory.na.leagueoflegends.com/en/...</td>\n    </tr>\n    <tr>\n      <th>4</th>\n      <td>NALCS</td>\n      <td>2015</td>\n      <td>Spring</td>\n      <td>Season</td>\n      <td>CLG</td>\n      <td>1</td>\n      <td>0</td>\n      <td>T8</td>\n      <td>35</td>\n      <td>Benny</td>\n      <td>...</td>\n      <td>Sion</td>\n      <td>Porpoise8</td>\n      <td>RekSai</td>\n      <td>Slooshi8</td>\n      <td>Lulu</td>\n      <td>Maplestreet8</td>\n      <td>Corki</td>\n      <td>Dodo8</td>\n      <td>Annie</td>\n      <td>http://matchhistory.na.leagueoflegends.com/en/...</td>\n    </tr>\n  </tbody>\n</table>\n<p>5 rows × 30 columns</p>\n</div>"
          },
          "metadata": {},
          "execution_count": 14
        }
      ]
    },
    {
      "cell_type": "markdown",
      "metadata": {
        "id": "62BoiQ2I6hKz"
      },
      "source": [
        "Transformação das strings para números únicos (Campeões)"
      ]
    },
    {
      "cell_type": "code",
      "metadata": {
        "id": "0zE9YIhHYQZL",
        "colab": {
          "base_uri": "https://localhost:8080/",
          "height": 1000
        },
        "outputId": "fd3e6848-30d4-450a-c73c-d93edf89441e"
      },
      "source": [
        "matchinfo = pd.read_csv(\"matchinfo.csv\")\n",
        "\n",
        "champs = []\n",
        "\n",
        "for i in matchinfo.blueTopChamp.unique():\n",
        "    if i not in champs:\n",
        "        champs.append(i)\n",
        "\n",
        "for i in matchinfo.blueJungleChamp.unique():\n",
        "    if i not in champs:\n",
        "        champs.append(i)\n",
        "\n",
        "for i in matchinfo.blueMiddleChamp.unique():\n",
        "    if i not in champs:\n",
        "        champs.append(i)\n",
        "\n",
        "for i in matchinfo.blueADCChamp.unique():\n",
        "    if i not in champs:\n",
        "        champs.append(i)\n",
        "\n",
        "for i in matchinfo.blueSupportChamp.unique():\n",
        "    if i not in champs:\n",
        "        champs.append(i)\n",
        "\n",
        "champs.append(\"Aatrox\")\n",
        "champs.append(\"Volibear\")\n",
        "champs.append(\"MonkeyKing\")\n",
        "champs.append(\"Tryndamere\")\n",
        "\n",
        "champs.sort()\n",
        "champs"
      ],
      "execution_count": null,
      "outputs": [
        {
          "output_type": "execute_result",
          "data": {
            "text/plain": [
              "['Aatrox',\n",
              " 'Ahri',\n",
              " 'Akali',\n",
              " 'Alistar',\n",
              " 'Amumu',\n",
              " 'Anivia',\n",
              " 'Annie',\n",
              " 'Ashe',\n",
              " 'AurelionSol',\n",
              " 'Azir',\n",
              " 'Bard',\n",
              " 'Blitzcrank',\n",
              " 'Brand',\n",
              " 'Braum',\n",
              " 'Caitlyn',\n",
              " 'Camille',\n",
              " 'Cassiopeia',\n",
              " 'Chogath',\n",
              " 'Corki',\n",
              " 'Darius',\n",
              " 'Diana',\n",
              " 'DrMundo',\n",
              " 'Draven',\n",
              " 'Ekko',\n",
              " 'Elise',\n",
              " 'Evelynn',\n",
              " 'Ezreal',\n",
              " 'FiddleSticks',\n",
              " 'Fiddlesticks',\n",
              " 'Fiora',\n",
              " 'Fizz',\n",
              " 'Galio',\n",
              " 'Gangplank',\n",
              " 'Garen',\n",
              " 'Gnar',\n",
              " 'Gragas',\n",
              " 'Graves',\n",
              " 'Hecarim',\n",
              " 'Heimerdinger',\n",
              " 'Illaoi',\n",
              " 'Irelia',\n",
              " 'Ivern',\n",
              " 'Janna',\n",
              " 'JarvanIV',\n",
              " 'Jax',\n",
              " 'Jayce',\n",
              " 'Jhin',\n",
              " 'Jinx',\n",
              " 'Kalista',\n",
              " 'Karma',\n",
              " 'Karthus',\n",
              " 'Kassadin',\n",
              " 'Katarina',\n",
              " 'Kayle',\n",
              " 'Kayn',\n",
              " 'Kennen',\n",
              " 'Khazix',\n",
              " 'Kindred',\n",
              " 'Kled',\n",
              " 'KogMaw',\n",
              " 'Leblanc',\n",
              " 'LeeSin',\n",
              " 'Leona',\n",
              " 'Lissandra',\n",
              " 'Lucian',\n",
              " 'Lulu',\n",
              " 'Lux',\n",
              " 'Malphite',\n",
              " 'Malzahar',\n",
              " 'Maokai',\n",
              " 'MasterYi',\n",
              " 'MissFortune',\n",
              " 'MonkeyKing',\n",
              " 'Mordekaiser',\n",
              " 'Morgana',\n",
              " 'Nami',\n",
              " 'Nasus',\n",
              " 'Nautilus',\n",
              " 'Nidalee',\n",
              " 'Nocturne',\n",
              " 'Nunu',\n",
              " 'Olaf',\n",
              " 'Orianna',\n",
              " 'Ornn',\n",
              " 'Pantheon',\n",
              " 'Poppy',\n",
              " 'Quinn',\n",
              " 'Rakan',\n",
              " 'Rammus',\n",
              " 'RekSai',\n",
              " 'Renekton',\n",
              " 'Rengar',\n",
              " 'Riven',\n",
              " 'Rumble',\n",
              " 'Ryze',\n",
              " 'Sejuani',\n",
              " 'Shaco',\n",
              " 'Shen',\n",
              " 'Shyvana',\n",
              " 'Singed',\n",
              " 'Sion',\n",
              " 'Sivir',\n",
              " 'Skarner',\n",
              " 'Sona',\n",
              " 'Soraka',\n",
              " 'Swain',\n",
              " 'Syndra',\n",
              " 'TahmKench',\n",
              " 'Taliyah',\n",
              " 'Talon',\n",
              " 'Taric',\n",
              " 'Teemo',\n",
              " 'Thresh',\n",
              " 'Tristana',\n",
              " 'Trundle',\n",
              " 'Tryndamere',\n",
              " 'TwistedFate',\n",
              " 'Twitch',\n",
              " 'Udyr',\n",
              " 'Urgot',\n",
              " 'Varus',\n",
              " 'Vayne',\n",
              " 'Veigar',\n",
              " 'Velkoz',\n",
              " 'Vi',\n",
              " 'Viktor',\n",
              " 'Vladimir',\n",
              " 'Volibear',\n",
              " 'Warwick',\n",
              " 'Xayah',\n",
              " 'Xerath',\n",
              " 'XinZhao',\n",
              " 'Yasuo',\n",
              " 'Yorick',\n",
              " 'Zac',\n",
              " 'Zed',\n",
              " 'Ziggs',\n",
              " 'Zilean',\n",
              " 'Zoe',\n",
              " 'Zyra']"
            ]
          },
          "metadata": {
            "tags": []
          },
          "execution_count": 4
        }
      ]
    },
    {
      "cell_type": "markdown",
      "metadata": {
        "id": "c8FUsZ9V6zgG"
      },
      "source": [
        "Transformação das strings para números únicos (Jogadores)"
      ]
    },
    {
      "cell_type": "code",
      "metadata": {
        "id": "rd19IxoJ2M3G"
      },
      "source": [
        "matchinfo = pd.read_csv(\"matchinfo.csv\")\n",
        "players = []\n",
        "\n",
        "for i in matchinfo.blueTop.unique():\n",
        "    if i not in players:\n",
        "        players.append(i)\n",
        "\n",
        "for i in matchinfo.blueJungle.unique():\n",
        "    if i not in players:\n",
        "        players.append(i)\n",
        "\n",
        "for i in matchinfo.blueMiddle.unique():\n",
        "    if i not in players:\n",
        "        players.append(i)\n",
        "\n",
        "for i in matchinfo.blueADC.unique():\n",
        "    if i not in players:\n",
        "        players.append(i)\n",
        "\n",
        "for i in matchinfo.blueSupport.unique():\n",
        "    if i not in players:\n",
        "        players.append(i)\n",
        "\n",
        "for i in matchinfo.redTop.unique():\n",
        "    if i not in players:\n",
        "        players.append(i)\n",
        "\n",
        "for i in matchinfo.redJungle.unique():\n",
        "    if i not in players:\n",
        "        players.append(i)\n",
        "\n",
        "for i in matchinfo.redMiddle.unique():\n",
        "    if i not in players:\n",
        "        players.append(i)\n",
        "\n",
        "for i in matchinfo.redADC.unique():\n",
        "    if i not in players:\n",
        "        players.append(i)\n",
        "\n",
        "for i in matchinfo.redSupport.unique():\n",
        "    if i not in players:\n",
        "        players.append(i)"
      ],
      "execution_count": null,
      "outputs": []
    },
    {
      "cell_type": "markdown",
      "metadata": {
        "id": "Fd51M17v65Ev"
      },
      "source": [
        "Transformação das strings para números únicos (Times)"
      ]
    },
    {
      "cell_type": "code",
      "metadata": {
        "id": "vcRHuPWh38gK"
      },
      "source": [
        "matchinfo = pd.read_csv(\"matchinfo.csv\")\n",
        "teams = []\n",
        "\n",
        "for i in matchinfo.blueTeamTag.unique():\n",
        "    if i not in teams:\n",
        "        teams.append(i)\n",
        "\n",
        "for i in matchinfo.redTeamTag.unique():\n",
        "    if i not in teams:\n",
        "        teams.append(i)"
      ],
      "execution_count": null,
      "outputs": []
    },
    {
      "cell_type": "markdown",
      "metadata": {
        "id": "X0HuaNPG67ZO"
      },
      "source": [
        "Substituição dos strings pelos números"
      ]
    },
    {
      "cell_type": "code",
      "metadata": {
        "id": "p3DTwiWFfCEn"
      },
      "source": [
        "matchinfo = pd.read_csv(\"matchinfo.csv\")\n",
        "\n",
        "for i in range(0, len(matchinfo)):\n",
        "    matchinfo.blueTopChamp[i] = champs.index(matchinfo.blueTopChamp[i]) + 1\n",
        "    matchinfo.blueJungleChamp[i] = champs.index(matchinfo.blueJungleChamp[i]) + 1\n",
        "    matchinfo.blueMiddleChamp[i] = champs.index(matchinfo.blueMiddleChamp[i]) + 1\n",
        "    matchinfo.blueADCChamp[i] = champs.index(matchinfo.blueADCChamp[i]) + 1\n",
        "    matchinfo.blueSupportChamp[i] = champs.index(matchinfo.blueSupportChamp[i]) + 1\n",
        "    matchinfo.redTopChamp[i] = champs.index(matchinfo.redTopChamp[i]) + 1\n",
        "    matchinfo.redJungleChamp[i] = champs.index(matchinfo.redJungleChamp[i]) + 1\n",
        "    matchinfo.redMiddleChamp[i] = champs.index(matchinfo.redMiddleChamp[i]) + 1\n",
        "    matchinfo.redADCChamp[i] = champs.index(matchinfo.redADCChamp[i]) + 1\n",
        "    matchinfo.redSupportChamp[i] = champs.index(matchinfo.redSupportChamp[i]) + 1\n",
        "\n",
        "    matchinfo.blueTop[i] = players.index(matchinfo.blueTop[i]) + 1\n",
        "    matchinfo.blueJungle[i] = players.index(matchinfo.blueJungle[i]) + 1\n",
        "    matchinfo.blueMiddle[i] = players.index(matchinfo.blueMiddle[i]) + 1\n",
        "    matchinfo.blueADC[i] = players.index(matchinfo.blueADC[i]) + 1\n",
        "    matchinfo.blueSupport[i] = players.index(matchinfo.blueSupport[i]) + 1\n",
        "    matchinfo.redTop[i] = players.index(matchinfo.redTop[i]) + 1\n",
        "    matchinfo.redJungle[i] = players.index(matchinfo.redJungle[i]) + 1\n",
        "    matchinfo.redMiddle[i] = players.index(matchinfo.redMiddle[i]) + 1\n",
        "    matchinfo.redADC[i] = players.index(matchinfo.redADC[i]) + 1\n",
        "    matchinfo.redSupport[i] = players.index(matchinfo.redSupport[i]) + 1\n",
        "\n",
        "    matchinfo.blueTeamTag[i] = teams.index(matchinfo.blueTeamTag[i]) + 1\n",
        "    matchinfo.redTeamTag[i] = teams.index(matchinfo.redTeamTag[i]) + 1"
      ],
      "execution_count": null,
      "outputs": []
    },
    {
      "cell_type": "code",
      "metadata": {
        "id": "pAoM-22wfz2J",
        "colab": {
          "base_uri": "https://localhost:8080/",
          "height": 313
        },
        "outputId": "2cc4db46-b3c7-4dfb-bb0b-114407accb1a"
      },
      "source": [
        "matchinfo.head(5)"
      ],
      "execution_count": null,
      "outputs": [
        {
          "output_type": "execute_result",
          "data": {
            "text/html": [
              "<div>\n",
              "<style scoped>\n",
              "    .dataframe tbody tr th:only-of-type {\n",
              "        vertical-align: middle;\n",
              "    }\n",
              "\n",
              "    .dataframe tbody tr th {\n",
              "        vertical-align: top;\n",
              "    }\n",
              "\n",
              "    .dataframe thead th {\n",
              "        text-align: right;\n",
              "    }\n",
              "</style>\n",
              "<table border=\"1\" class=\"dataframe\">\n",
              "  <thead>\n",
              "    <tr style=\"text-align: right;\">\n",
              "      <th></th>\n",
              "      <th>League</th>\n",
              "      <th>Year</th>\n",
              "      <th>Season</th>\n",
              "      <th>Type</th>\n",
              "      <th>blueTeamTag</th>\n",
              "      <th>bResult</th>\n",
              "      <th>rResult</th>\n",
              "      <th>redTeamTag</th>\n",
              "      <th>gamelength</th>\n",
              "      <th>blueTop</th>\n",
              "      <th>blueTopChamp</th>\n",
              "      <th>blueJungle</th>\n",
              "      <th>blueJungleChamp</th>\n",
              "      <th>blueMiddle</th>\n",
              "      <th>blueMiddleChamp</th>\n",
              "      <th>blueADC</th>\n",
              "      <th>blueADCChamp</th>\n",
              "      <th>blueSupport</th>\n",
              "      <th>blueSupportChamp</th>\n",
              "      <th>redTop</th>\n",
              "      <th>redTopChamp</th>\n",
              "      <th>redJungle</th>\n",
              "      <th>redJungleChamp</th>\n",
              "      <th>redMiddle</th>\n",
              "      <th>redMiddleChamp</th>\n",
              "      <th>redADC</th>\n",
              "      <th>redADCChamp</th>\n",
              "      <th>redSupport</th>\n",
              "      <th>redSupportChamp</th>\n",
              "      <th>Address</th>\n",
              "    </tr>\n",
              "  </thead>\n",
              "  <tbody>\n",
              "    <tr>\n",
              "      <th>0</th>\n",
              "      <td>NALCS</td>\n",
              "      <td>2015</td>\n",
              "      <td>Spring</td>\n",
              "      <td>Season</td>\n",
              "      <td>1</td>\n",
              "      <td>1</td>\n",
              "      <td>0</td>\n",
              "      <td>8</td>\n",
              "      <td>40</td>\n",
              "      <td>1</td>\n",
              "      <td>41</td>\n",
              "      <td>321</td>\n",
              "      <td>90</td>\n",
              "      <td>650</td>\n",
              "      <td>2</td>\n",
              "      <td>948</td>\n",
              "      <td>48</td>\n",
              "      <td>1262</td>\n",
              "      <td>43</td>\n",
              "      <td>8</td>\n",
              "      <td>35</td>\n",
              "      <td>328</td>\n",
              "      <td>25</td>\n",
              "      <td>338</td>\n",
              "      <td>31</td>\n",
              "      <td>955</td>\n",
              "      <td>102</td>\n",
              "      <td>1268</td>\n",
              "      <td>113</td>\n",
              "      <td>http://matchhistory.na.leagueoflegends.com/en/...</td>\n",
              "    </tr>\n",
              "    <tr>\n",
              "      <th>1</th>\n",
              "      <td>NALCS</td>\n",
              "      <td>2015</td>\n",
              "      <td>Spring</td>\n",
              "      <td>Season</td>\n",
              "      <td>2</td>\n",
              "      <td>0</td>\n",
              "      <td>1</td>\n",
              "      <td>6</td>\n",
              "      <td>38</td>\n",
              "      <td>2</td>\n",
              "      <td>35</td>\n",
              "      <td>322</td>\n",
              "      <td>92</td>\n",
              "      <td>651</td>\n",
              "      <td>2</td>\n",
              "      <td>949</td>\n",
              "      <td>15</td>\n",
              "      <td>1263</td>\n",
              "      <td>63</td>\n",
              "      <td>6</td>\n",
              "      <td>41</td>\n",
              "      <td>326</td>\n",
              "      <td>44</td>\n",
              "      <td>655</td>\n",
              "      <td>10</td>\n",
              "      <td>953</td>\n",
              "      <td>19</td>\n",
              "      <td>1266</td>\n",
              "      <td>7</td>\n",
              "      <td>http://matchhistory.na.leagueoflegends.com/en/...</td>\n",
              "    </tr>\n",
              "    <tr>\n",
              "      <th>2</th>\n",
              "      <td>NALCS</td>\n",
              "      <td>2015</td>\n",
              "      <td>Spring</td>\n",
              "      <td>Season</td>\n",
              "      <td>3</td>\n",
              "      <td>1</td>\n",
              "      <td>0</td>\n",
              "      <td>10</td>\n",
              "      <td>40</td>\n",
              "      <td>3</td>\n",
              "      <td>91</td>\n",
              "      <td>323</td>\n",
              "      <td>92</td>\n",
              "      <td>652</td>\n",
              "      <td>31</td>\n",
              "      <td>950</td>\n",
              "      <td>102</td>\n",
              "      <td>1264</td>\n",
              "      <td>7</td>\n",
              "      <td>10</td>\n",
              "      <td>101</td>\n",
              "      <td>330</td>\n",
              "      <td>62</td>\n",
              "      <td>658</td>\n",
              "      <td>10</td>\n",
              "      <td>957</td>\n",
              "      <td>19</td>\n",
              "      <td>1518</td>\n",
              "      <td>43</td>\n",
              "      <td>http://matchhistory.na.leagueoflegends.com/en/...</td>\n",
              "    </tr>\n",
              "    <tr>\n",
              "      <th>3</th>\n",
              "      <td>NALCS</td>\n",
              "      <td>2015</td>\n",
              "      <td>Spring</td>\n",
              "      <td>Season</td>\n",
              "      <td>4</td>\n",
              "      <td>0</td>\n",
              "      <td>1</td>\n",
              "      <td>7</td>\n",
              "      <td>41</td>\n",
              "      <td>4</td>\n",
              "      <td>41</td>\n",
              "      <td>324</td>\n",
              "      <td>44</td>\n",
              "      <td>653</td>\n",
              "      <td>61</td>\n",
              "      <td>951</td>\n",
              "      <td>102</td>\n",
              "      <td>1265</td>\n",
              "      <td>113</td>\n",
              "      <td>7</td>\n",
              "      <td>35</td>\n",
              "      <td>327</td>\n",
              "      <td>81</td>\n",
              "      <td>668</td>\n",
              "      <td>66</td>\n",
              "      <td>954</td>\n",
              "      <td>60</td>\n",
              "      <td>1267</td>\n",
              "      <td>43</td>\n",
              "      <td>http://matchhistory.na.leagueoflegends.com/en/...</td>\n",
              "    </tr>\n",
              "    <tr>\n",
              "      <th>4</th>\n",
              "      <td>NALCS</td>\n",
              "      <td>2015</td>\n",
              "      <td>Spring</td>\n",
              "      <td>Season</td>\n",
              "      <td>5</td>\n",
              "      <td>1</td>\n",
              "      <td>0</td>\n",
              "      <td>9</td>\n",
              "      <td>35</td>\n",
              "      <td>5</td>\n",
              "      <td>35</td>\n",
              "      <td>325</td>\n",
              "      <td>44</td>\n",
              "      <td>654</td>\n",
              "      <td>64</td>\n",
              "      <td>952</td>\n",
              "      <td>114</td>\n",
              "      <td>974</td>\n",
              "      <td>43</td>\n",
              "      <td>9</td>\n",
              "      <td>101</td>\n",
              "      <td>329</td>\n",
              "      <td>90</td>\n",
              "      <td>657</td>\n",
              "      <td>66</td>\n",
              "      <td>956</td>\n",
              "      <td>19</td>\n",
              "      <td>1269</td>\n",
              "      <td>7</td>\n",
              "      <td>http://matchhistory.na.leagueoflegends.com/en/...</td>\n",
              "    </tr>\n",
              "  </tbody>\n",
              "</table>\n",
              "</div>"
            ],
            "text/plain": [
              "  League  ...                                            Address\n",
              "0  NALCS  ...  http://matchhistory.na.leagueoflegends.com/en/...\n",
              "1  NALCS  ...  http://matchhistory.na.leagueoflegends.com/en/...\n",
              "2  NALCS  ...  http://matchhistory.na.leagueoflegends.com/en/...\n",
              "3  NALCS  ...  http://matchhistory.na.leagueoflegends.com/en/...\n",
              "4  NALCS  ...  http://matchhistory.na.leagueoflegends.com/en/...\n",
              "\n",
              "[5 rows x 30 columns]"
            ]
          },
          "metadata": {
            "tags": []
          },
          "execution_count": 207
        }
      ]
    },
    {
      "cell_type": "markdown",
      "metadata": {
        "id": "a3uiemS97A_S"
      },
      "source": [
        "Divisão dos modelos em teste e treino"
      ]
    },
    {
      "cell_type": "code",
      "metadata": {
        "id": "yKw58LerhNpN"
      },
      "source": [
        "# 3.1 Feature Matrix\n",
        "x_geral = matchinfo.loc[ :, [\"blueTeamTag\", \"redTeamTag\", \"Year\" ,\"blueTopChamp\", \"blueJungleChamp\", \"blueMiddleChamp\", \"blueADCChamp\", \"blueSupportChamp\", \"redTopChamp\", \"redJungleChamp\", \"redMiddleChamp\", \"redADCChamp\", \"redSupportChamp\", \"blueTop\", \"blueJungle\", \"blueMiddle\", \"blueADC\", \"blueSupport\", \"redTop\", \"redJungle\", \"redMiddle\", \"redADC\", \"redSupport\"]]\n",
        "\n",
        "# 3.2 Target Array\n",
        "y_geral = matchinfo.bResult\n",
        "\n",
        "# 3.3 Separação do Banco de Dados\n",
        "x_train, x_test, y_train, y_test = train_test_split(x_geral, y_geral, random_state = 123)"
      ],
      "execution_count": null,
      "outputs": []
    },
    {
      "cell_type": "markdown",
      "metadata": {
        "id": "Jm2hNhlO-Uhw"
      },
      "source": [
        "Predição por maioria de vitórias (54.4409% de acurácia)"
      ]
    },
    {
      "cell_type": "code",
      "metadata": {
        "id": "rxhvTcUE-DnK",
        "colab": {
          "base_uri": "https://localhost:8080/",
          "height": 36
        },
        "outputId": "1ed4bc7e-083c-4692-9c39-652a366f39a8"
      },
      "source": [
        "vitoriasAzul/(vitoriasAzul + vitoriasVermelho)"
      ],
      "execution_count": null,
      "outputs": [
        {
          "output_type": "execute_result",
          "data": {
            "text/plain": [
              "0.5440944881889764"
            ]
          },
          "metadata": {
            "tags": []
          },
          "execution_count": 232
        }
      ]
    },
    {
      "cell_type": "markdown",
      "metadata": {
        "id": "I3_nEbkp7SEl"
      },
      "source": [
        "Modelo Random Forest Classifier (62.4671% de acurácia)\n",
        "\n"
      ]
    },
    {
      "cell_type": "code",
      "metadata": {
        "id": "e-OuJzbzZvKu",
        "colab": {
          "base_uri": "https://localhost:8080/",
          "height": 36
        },
        "outputId": "db966a3f-6118-461b-9d34-7f95edab4711"
      },
      "source": [
        "modelRFC = RandomForestClassifier()    # 2 - Escolha dos hiperparâmetros e instanciação da classe escolhida.\n",
        "\n",
        "modelRFC.fit(x_train, y_train)         # 4 - Ajuste do modelo de dados\n",
        "\n",
        "predictsRFC = modelRFC.predict(x_test) # 5 - Predições em dados novos\n",
        "accuracy_score(y_test, predictsRFC)"
      ],
      "execution_count": null,
      "outputs": [
        {
          "output_type": "execute_result",
          "data": {
            "text/plain": [
              "0.6246719160104987"
            ]
          },
          "metadata": {
            "tags": []
          },
          "execution_count": 14
        }
      ]
    },
    {
      "cell_type": "markdown",
      "metadata": {
        "id": "beEmWQt87fZl"
      },
      "source": [
        "Modelo Naive Bayes (52.9658% de acurácia)"
      ]
    },
    {
      "cell_type": "code",
      "metadata": {
        "id": "EIy8IGHwl3IS",
        "colab": {
          "base_uri": "https://localhost:8080/",
          "height": 36
        },
        "outputId": "81ce64cc-8a01-4ae0-956b-24397ef0af39"
      },
      "source": [
        "modelNB = GaussianNB()               # 2 - Escolha dos hiperparâmetros e instanciação da classe escolhida.\n",
        "modelNB.fit(x_train, y_train)        # 4 - Ajuste do modelo de dados\n",
        "predictsNB = modelNB.predict(x_test) # 5 - Predições em dados novos\n",
        "accuracy_score(y_test, predictsNB)"
      ],
      "execution_count": null,
      "outputs": [
        {
          "output_type": "execute_result",
          "data": {
            "text/plain": [
              "0.5296587926509186"
            ]
          },
          "metadata": {
            "tags": []
          },
          "execution_count": 238
        }
      ]
    },
    {
      "cell_type": "markdown",
      "metadata": {
        "id": "8JvCIwFK77oR"
      },
      "source": [
        "Modelo Decision Tree Classifier (53.6482% de acurácia)"
      ]
    },
    {
      "cell_type": "code",
      "metadata": {
        "id": "NrJPn1E9mWEj",
        "colab": {
          "base_uri": "https://localhost:8080/",
          "height": 36
        },
        "outputId": "3f551ee5-9a77-409e-b4bd-b1ebc96bc20f"
      },
      "source": [
        "modelDTC = DecisionTreeClassifier()    # 2 - Escolha dos hiperparâmetros e instanciação da classe escolhida.\n",
        "modelDTC.fit(x_train, y_train)         # 4 - Ajuste do modelo de dados\n",
        "predictsDTC = modelDTC.predict(x_test) # 5 - Predições em dados novos\n",
        "accuracy_score(y_test, predictsDTC)"
      ],
      "execution_count": null,
      "outputs": [
        {
          "output_type": "execute_result",
          "data": {
            "text/plain": [
              "0.5475065616797901"
            ]
          },
          "metadata": {
            "tags": []
          },
          "execution_count": 28
        }
      ]
    },
    {
      "cell_type": "markdown",
      "metadata": {
        "id": "lARu0Rg18lm0"
      },
      "source": [
        "Modelo K Neighbors Classifier (55.1181% de acurácia máxima)"
      ]
    },
    {
      "cell_type": "code",
      "metadata": {
        "id": "v_NLHp8pymzl",
        "colab": {
          "base_uri": "https://localhost:8080/",
          "height": 36
        },
        "outputId": "52d19b4b-2ea5-4b05-c48f-f5cc8318d401"
      },
      "source": [
        "modelKNC = KNeighborsClassifier(n_neighbors = 3)\n",
        "cross_val_score(modelKNC, x_test, y=y_test, cv = 5)"
      ],
      "execution_count": null,
      "outputs": [
        {
          "output_type": "execute_result",
          "data": {
            "text/plain": [
              "array([0.5328084 , 0.5511811 , 0.50656168, 0.5328084 , 0.54068241])"
            ]
          },
          "metadata": {
            "tags": []
          },
          "execution_count": 228
        }
      ]
    },
    {
      "cell_type": "markdown",
      "metadata": {
        "id": "D9aiuXZt5zNo"
      },
      "source": [
        "\n",
        "\n",
        "---\n",
        "\n"
      ]
    },
    {
      "cell_type": "markdown",
      "metadata": {
        "id": "zBz1LWXVJY-a"
      },
      "source": [
        "Bibliotecas"
      ]
    },
    {
      "cell_type": "code",
      "metadata": {
        "id": "TTcrg_Uv9ZIY"
      },
      "source": [
        "from sklearn.model_selection import RandomizedSearchCV\n",
        "from sklearn.preprocessing import StandardScaler\n",
        "from sklearn.pipeline import Pipeline\n",
        "from sklearn.svm import SVC\n",
        "from sklearn.model_selection import cross_val_score\n",
        "import matplotlib.pyplot as plt\n",
        "from sklearn.metrics import confusion_matrix\n",
        "from sklearn.preprocessing import StandardScaler"
      ],
      "execution_count": null,
      "outputs": []
    },
    {
      "cell_type": "markdown",
      "metadata": {
        "id": "YLXk1fzZJbNH"
      },
      "source": [
        "Criação do Pipeline e Random Search"
      ]
    },
    {
      "cell_type": "code",
      "metadata": {
        "id": "xZMfMs2kGi5A"
      },
      "source": [
        "# Criar pipeline\n",
        "standardScaler = StandardScaler()\n",
        "svm = SVC(kernel=\"rbf\", C = 0.1, gamma = 0.1)\n",
        "pipeline = Pipeline([('transformer', standardScaler), \n",
        "                     ('predictor', svm)])\n",
        "\n",
        "# Definir intervalo de valores\n",
        "param_dist = dict(\n",
        "    predictor__gamma = np.logspace(-3, 3, 8),\n",
        "    predictor__C     = np.logspace(-2, 3, 8)\n",
        ")\n",
        "\n",
        "rand = RandomizedSearchCV(pipeline, param_dist, cv=10, \n",
        "                          n_iter = 10, random_state = 123,\n",
        "                          scoring='accuracy')\n",
        "rand.fit(x_test, y=y_test)"
      ],
      "execution_count": null,
      "outputs": []
    },
    {
      "cell_type": "markdown",
      "metadata": {
        "id": "_Jxi5ou3JgPC"
      },
      "source": [
        "Retreinamento com os melhores valores"
      ]
    },
    {
      "cell_type": "code",
      "metadata": {
        "id": "L0iX9lcVHG8Y",
        "colab": {
          "base_uri": "https://localhost:8080/",
          "height": 54
        },
        "outputId": "f1b91b62-a4fe-4124-ac61-95c314482fda"
      },
      "source": [
        "print(rand.best_score_)\n",
        "print(rand.best_params_)"
      ],
      "execution_count": null,
      "outputs": [
        {
          "output_type": "stream",
          "text": [
            "0.5485533204739598\n",
            "{'predictor__gamma': 1000.0, 'predictor__C': 1.3894954943731375}\n"
          ],
          "name": "stdout"
        }
      ]
    },
    {
      "cell_type": "code",
      "metadata": {
        "id": "P7FZRRNIHyKm"
      },
      "source": [
        "## Retreinando\n",
        "standardScaler = StandardScaler()\n",
        "X_scaled       = standardScaler.fit_transform(x_train)\n",
        "\n",
        "svm = SVC(kernel=\"linear\", C = 1.3894954943731375)\n",
        "svm.fit(X_scaled, y_train)\n",
        "predictSVM = svm.predict(x_test)\n",
        "accuracy_score(y_test, predictSVM)"
      ],
      "execution_count": null,
      "outputs": []
    },
    {
      "cell_type": "markdown",
      "metadata": {
        "id": "EVn8_v7cGykT"
      },
      "source": [
        "Definições das funçoes precision, recall, medida_f e specificity"
      ]
    },
    {
      "cell_type": "code",
      "metadata": {
        "id": "q9y-WUZrCpF2"
      },
      "source": [
        "def precision(target, prediction):\n",
        "  matriz = confusion_matrix(y_test, prediction)\n",
        "  tn, fp, fn, tp = matriz.ravel()\n",
        "  return tp/(tp+fp)\n",
        "\n",
        "def recall(target, prediction):\n",
        "  matriz = confusion_matrix(y_test, prediction)\n",
        "  tn, fp, fn, tp = matriz.ravel()\n",
        "  return tp/(tp+fn)\n",
        "\n",
        "def medida_f(target, prediction):\n",
        "  rec = recall(target, prediction)\n",
        "  prec = precision(target, prediction)\n",
        "  return 2*rec*prec/(rec+prec)\n",
        "\n",
        "def specificity(target, prediction):\n",
        "  matriz = confusion_matrix(y_test, prediction)\n",
        "  tn, fp, fn, tp = matriz.ravel()\n",
        "  return tn/(tn+fp)"
      ],
      "execution_count": null,
      "outputs": []
    },
    {
      "cell_type": "code",
      "metadata": {
        "id": "mSPn1oEbA8S3",
        "colab": {
          "base_uri": "https://localhost:8080/",
          "height": 354
        },
        "outputId": "86581fb7-611f-4ea6-88cb-08250422ad40"
      },
      "source": [
        "matriz = confusion_matrix(y_test, predictsRFC)\n",
        "tn, fp, fn, tp = matriz.ravel()\n",
        "print(\"True Negative:\", tn)\n",
        "print(\"True Positive:\", tp)\n",
        "print(\"False Positive:\", fp)\n",
        "print(\"False Negative:\", fn)\n",
        "sns.heatmap(matriz.T, annot = True)\n",
        "plt.xlabel(\"Target\")\n",
        "plt.ylabel(\"Predicted\")\n",
        "plt.show()"
      ],
      "execution_count": null,
      "outputs": [
        {
          "output_type": "stream",
          "text": [
            "True Negative: 433\n",
            "True Positive: 757\n",
            "False Positive: 427\n",
            "False Negative: 288\n"
          ],
          "name": "stdout"
        },
        {
          "output_type": "display_data",
          "data": {
            "image/png": "[encoded data removed]",
            "text/plain": [
              "<Figure size 432x288 with 2 Axes>"
            ]
          },
          "metadata": {
            "tags": [],
            "needs_background": "light"
          }
        }
      ]
    },
    {
      "cell_type": "markdown",
      "metadata": {
        "id": "bTMF9BjGJoSo"
      },
      "source": [
        "Medidas usando o melhores classificador anterior"
      ]
    },
    {
      "cell_type": "code",
      "metadata": {
        "id": "0-8Ua52rERHY",
        "colab": {
          "base_uri": "https://localhost:8080/",
          "height": 92
        },
        "outputId": "7f3e1601-d4cb-49d1-cdce-ae6e3861f70e"
      },
      "source": [
        "print(\"Precision: \", precision(y_test, predictsRFC))\n",
        "print(\"Recall: \", recall(y_test, predictsRFC))\n",
        "print(\"F Measure: \", medida_f(y_test, predictsRFC))\n",
        "print(\"Specificity: \", specificity(y_test, predictsRFC))"
      ],
      "execution_count": null,
      "outputs": [
        {
          "output_type": "stream",
          "text": [
            "Precision:  0.6393581081081081\n",
            "Recall:  0.724401913875598\n",
            "F Measure:  0.6792283535217587\n",
            "Specificity:  0.5034883720930232\n"
          ],
          "name": "stdout"
        }
      ]
    },
    {
      "cell_type": "markdown",
      "metadata": {
        "id": "13Wm4JEHJ05m"
      },
      "source": [
        "Medidas usando o melhor classificador obtido pelo Random Search"
      ]
    },
    {
      "cell_type": "code",
      "metadata": {
        "id": "qWglaaKKJ7tL",
        "colab": {
          "base_uri": "https://localhost:8080/",
          "height": 92
        },
        "outputId": "33bf0dca-7376-47c7-e8f5-3794eb3a61b4"
      },
      "source": [
        "print(\"Precision: \", precision(y_test, predictSVM))\n",
        "print(\"Recall: \", recall(y_test, predictSVM))\n",
        "print(\"F Measure: \", medida_f(y_test, predictSVM))\n",
        "print(\"Specificity: \", specificity(y_test, predictSVM))"
      ],
      "execution_count": null,
      "outputs": [
        {
          "output_type": "stream",
          "text": [
            "Precision:  0.5485564304461942\n",
            "Recall:  1.0\n",
            "F Measure:  0.7084745762711864\n",
            "Specificity:  0.0\n"
          ],
          "name": "stdout"
        }
      ]
    }
  ]
}